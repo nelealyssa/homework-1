{
 "cells": [
  {
   "cell_type": "markdown",
   "metadata": {},
   "source": [
    "# Twitter\n",
    "\n",
    "---\n",
    "\n",
    "Group name: Gruppe L\n",
    "\n",
    "---\n"
   ]
  },
  {
   "cell_type": "code",
   "execution_count": 1,
   "metadata": {},
   "outputs": [],
   "source": [
    "import tweepy"
   ]
  },
  {
   "cell_type": "code",
   "execution_count": 2,
   "metadata": {},
   "outputs": [],
   "source": [
    "from keys import *"
   ]
  },
  {
   "cell_type": "code",
   "execution_count": 4,
   "metadata": {},
   "outputs": [],
   "source": [
    "import requests\n",
    "\n",
    "client = tweepy.Client( bearer_token=bearer_token, \n",
    "                        consumer_key=consumer_key, \n",
    "                        consumer_secret=consumer_secret, \n",
    "                        access_token=access_token, \n",
    "                        access_token_secret=access_token_secret, \n",
    "                        return_type = requests.Response,\n",
    "                        wait_on_rate_limit=True)"
   ]
  },
  {
   "cell_type": "code",
   "execution_count": 7,
   "metadata": {},
   "outputs": [],
   "source": [
    "my_query = 'from:WIRED -is:retweet'"
   ]
  },
  {
   "cell_type": "code",
   "execution_count": 6,
   "metadata": {},
   "outputs": [],
   "source": [
    "tweets = client.search_recent_tweets(query=my_query, \n",
    "                                    tweet_fields=['author_id', 'created_at'],\n",
    "                                     max_results=100)"
   ]
  },
  {
   "cell_type": "code",
   "execution_count": 8,
   "metadata": {},
   "outputs": [],
   "source": [
    "import pandas as pd\n",
    "\n",
    "tweets_dict = tweets.json() \n",
    "\n",
    "tweets_data = tweets_dict['data'] \n",
    "\n",
    "df = pd.json_normalize(tweets_data) "
   ]
  },
  {
   "cell_type": "code",
   "execution_count": 9,
   "metadata": {},
   "outputs": [
    {
     "data": {
      "text/html": [
       "<div>\n",
       "<style scoped>\n",
       "    .dataframe tbody tr th:only-of-type {\n",
       "        vertical-align: middle;\n",
       "    }\n",
       "\n",
       "    .dataframe tbody tr th {\n",
       "        vertical-align: top;\n",
       "    }\n",
       "\n",
       "    .dataframe thead th {\n",
       "        text-align: right;\n",
       "    }\n",
       "</style>\n",
       "<table border=\"1\" class=\"dataframe\">\n",
       "  <thead>\n",
       "    <tr style=\"text-align: right;\">\n",
       "      <th></th>\n",
       "      <th>created_at</th>\n",
       "      <th>author_id</th>\n",
       "      <th>id</th>\n",
       "      <th>text</th>\n",
       "      <th>edit_history_tweet_ids</th>\n",
       "    </tr>\n",
       "  </thead>\n",
       "  <tbody>\n",
       "    <tr>\n",
       "      <th>0</th>\n",
       "      <td>2022-11-30T01:33:03.000Z</td>\n",
       "      <td>2303751216</td>\n",
       "      <td>1597765619784482816</td>\n",
       "      <td>Tracking Trump's favorability with Americans: ...</td>\n",
       "      <td>[1597765619784482816]</td>\n",
       "    </tr>\n",
       "    <tr>\n",
       "      <th>1</th>\n",
       "      <td>2022-11-30T00:40:07.000Z</td>\n",
       "      <td>2303751216</td>\n",
       "      <td>1597752297429377024</td>\n",
       "      <td>The best NBA players, according to RAPTOR http...</td>\n",
       "      <td>[1597752297429377024]</td>\n",
       "    </tr>\n",
       "    <tr>\n",
       "      <th>2</th>\n",
       "      <td>2022-11-30T00:07:04.000Z</td>\n",
       "      <td>2303751216</td>\n",
       "      <td>1597743982234189827</td>\n",
       "      <td>The best NBA players, according to RAPTOR http...</td>\n",
       "      <td>[1597743982234189827]</td>\n",
       "    </tr>\n",
       "    <tr>\n",
       "      <th>3</th>\n",
       "      <td>2022-11-29T23:45:09.000Z</td>\n",
       "      <td>2303751216</td>\n",
       "      <td>1597738467114602498</td>\n",
       "      <td>We saw a pattern in the midterms: When electio...</td>\n",
       "      <td>[1597738467114602498]</td>\n",
       "    </tr>\n",
       "    <tr>\n",
       "      <th>4</th>\n",
       "      <td>2022-11-29T23:21:02.000Z</td>\n",
       "      <td>2303751216</td>\n",
       "      <td>1597732395050049536</td>\n",
       "      <td>The World Cup's new high-tech ball will change...</td>\n",
       "      <td>[1597732395050049536]</td>\n",
       "    </tr>\n",
       "    <tr>\n",
       "      <th>...</th>\n",
       "      <td>...</td>\n",
       "      <td>...</td>\n",
       "      <td>...</td>\n",
       "      <td>...</td>\n",
       "      <td>...</td>\n",
       "    </tr>\n",
       "    <tr>\n",
       "      <th>73</th>\n",
       "      <td>2022-11-23T21:46:03.000Z</td>\n",
       "      <td>2303751216</td>\n",
       "      <td>1595534166522748967</td>\n",
       "      <td>Our #WorldCup predictions: https://t.co/zHdtBL...</td>\n",
       "      <td>[1595534166522748967]</td>\n",
       "    </tr>\n",
       "    <tr>\n",
       "      <th>74</th>\n",
       "      <td>2022-11-23T18:50:06.000Z</td>\n",
       "      <td>2303751216</td>\n",
       "      <td>1595489888991907847</td>\n",
       "      <td>After two record-shattering elections for wome...</td>\n",
       "      <td>[1595489888991907847]</td>\n",
       "    </tr>\n",
       "    <tr>\n",
       "      <th>75</th>\n",
       "      <td>2022-11-23T17:03:06.000Z</td>\n",
       "      <td>2303751216</td>\n",
       "      <td>1595462958301073408</td>\n",
       "      <td>Drop the butter knife. https://t.co/eSMGH4mvHI</td>\n",
       "      <td>[1595462958301073408]</td>\n",
       "    </tr>\n",
       "    <tr>\n",
       "      <th>76</th>\n",
       "      <td>2022-11-23T15:12:06.000Z</td>\n",
       "      <td>2303751216</td>\n",
       "      <td>1595435024702005248</td>\n",
       "      <td>Our NBA predictions: https://t.co/SqyGEDsrQf</td>\n",
       "      <td>[1595435024702005248]</td>\n",
       "    </tr>\n",
       "    <tr>\n",
       "      <th>77</th>\n",
       "      <td>2022-11-23T13:33:06.000Z</td>\n",
       "      <td>2303751216</td>\n",
       "      <td>1595410109445771265</td>\n",
       "      <td>Here’s what your part of America eats on Thank...</td>\n",
       "      <td>[1595410109445771265]</td>\n",
       "    </tr>\n",
       "  </tbody>\n",
       "</table>\n",
       "<p>78 rows × 5 columns</p>\n",
       "</div>"
      ],
      "text/plain": [
       "                  created_at   author_id                   id  \\\n",
       "0   2022-11-30T01:33:03.000Z  2303751216  1597765619784482816   \n",
       "1   2022-11-30T00:40:07.000Z  2303751216  1597752297429377024   \n",
       "2   2022-11-30T00:07:04.000Z  2303751216  1597743982234189827   \n",
       "3   2022-11-29T23:45:09.000Z  2303751216  1597738467114602498   \n",
       "4   2022-11-29T23:21:02.000Z  2303751216  1597732395050049536   \n",
       "..                       ...         ...                  ...   \n",
       "73  2022-11-23T21:46:03.000Z  2303751216  1595534166522748967   \n",
       "74  2022-11-23T18:50:06.000Z  2303751216  1595489888991907847   \n",
       "75  2022-11-23T17:03:06.000Z  2303751216  1595462958301073408   \n",
       "76  2022-11-23T15:12:06.000Z  2303751216  1595435024702005248   \n",
       "77  2022-11-23T13:33:06.000Z  2303751216  1595410109445771265   \n",
       "\n",
       "                                                 text edit_history_tweet_ids  \n",
       "0   Tracking Trump's favorability with Americans: ...  [1597765619784482816]  \n",
       "1   The best NBA players, according to RAPTOR http...  [1597752297429377024]  \n",
       "2   The best NBA players, according to RAPTOR http...  [1597743982234189827]  \n",
       "3   We saw a pattern in the midterms: When electio...  [1597738467114602498]  \n",
       "4   The World Cup's new high-tech ball will change...  [1597732395050049536]  \n",
       "..                                                ...                    ...  \n",
       "73  Our #WorldCup predictions: https://t.co/zHdtBL...  [1595534166522748967]  \n",
       "74  After two record-shattering elections for wome...  [1595489888991907847]  \n",
       "75     Drop the butter knife. https://t.co/eSMGH4mvHI  [1595462958301073408]  \n",
       "76       Our NBA predictions: https://t.co/SqyGEDsrQf  [1595435024702005248]  \n",
       "77  Here’s what your part of America eats on Thank...  [1595410109445771265]  \n",
       "\n",
       "[78 rows x 5 columns]"
      ]
     },
     "execution_count": 9,
     "metadata": {},
     "output_type": "execute_result"
    }
   ],
   "source": [
    "df"
   ]
  },
  {
   "cell_type": "code",
   "execution_count": 10,
   "metadata": {},
   "outputs": [],
   "source": [
    "df.to_csv(\"twitter.csv\")"
   ]
  },
  {
   "cell_type": "markdown",
   "metadata": {},
   "source": []
  }
 ],
 "metadata": {
  "kernelspec": {
   "display_name": "Python 3.9.13 ('twitter')",
   "language": "python",
   "name": "python3"
  },
  "language_info": {
   "codemirror_mode": {
    "name": "ipython",
    "version": 3
   },
   "file_extension": ".py",
   "mimetype": "text/x-python",
   "name": "python",
   "nbconvert_exporter": "python",
   "pygments_lexer": "ipython3",
   "version": "3.9.13"
  },
  "orig_nbformat": 4,
  "vscode": {
   "interpreter": {
    "hash": "1fa55cf99beb0f7d7fb5d8fbed59902a86d8289cc6441eb992798de060c91905"
   }
  }
 },
 "nbformat": 4,
 "nbformat_minor": 2
}
