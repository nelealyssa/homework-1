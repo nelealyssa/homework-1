{
 "cells": [
  {
   "cell_type": "markdown",
   "metadata": {},
   "source": [
    "# Data exploration \n",
    "\n",
    "---\n",
    "\n",
    "Group name: L\n",
    "\n",
    "---\n"
   ]
  },
  {
   "cell_type": "markdown",
   "metadata": {},
   "source": [
    "## Introduction\n",
    "\n",
    "*This section includes a short description of the data* "
   ]
  },
  {
   "cell_type": "markdown",
   "metadata": {},
   "source": [
    "## Setup"
   ]
  },
  {
   "cell_type": "code",
   "execution_count": 19,
   "metadata": {},
   "outputs": [
    {
     "data": {
      "text/plain": [
       "DataTransformerRegistry.enable('default')"
      ]
     },
     "execution_count": 19,
     "metadata": {},
     "output_type": "execute_result"
    }
   ],
   "source": [
    "import pandas as pd\n",
    "import altair as alt\n",
    "import warnings\n",
    "warnings.simplefilter(action='ignore', category=FutureWarning)\n",
    "alt.data_transformers.disable_max_rows()"
   ]
  },
  {
   "cell_type": "markdown",
   "metadata": {},
   "source": [
    "## Data"
   ]
  },
  {
   "cell_type": "markdown",
   "metadata": {},
   "source": [
    "## Import data"
   ]
  },
  {
   "cell_type": "code",
   "execution_count": 26,
   "metadata": {},
   "outputs": [],
   "source": [
    "#CSV Datei einlesen \n",
    "df=pd.read_csv('/Users/timstarz/Downloads/weather-check/weather-check.csv')"
   ]
  },
  {
   "cell_type": "code",
   "execution_count": 27,
   "metadata": {},
   "outputs": [],
   "source": [
    "df.to_csv(\"/Users/timstarz/Documents/Wintersemester 22 23/Big Data/Hausi/weather-check/weather-check.csv\")"
   ]
  },
  {
   "cell_type": "markdown",
   "metadata": {},
   "source": [
    "### Data structure"
   ]
  },
  {
   "cell_type": "code",
   "execution_count": 29,
   "metadata": {},
   "outputs": [
    {
     "data": {
      "text/html": [
       "<div>\n",
       "<style scoped>\n",
       "    .dataframe tbody tr th:only-of-type {\n",
       "        vertical-align: middle;\n",
       "    }\n",
       "\n",
       "    .dataframe tbody tr th {\n",
       "        vertical-align: top;\n",
       "    }\n",
       "\n",
       "    .dataframe thead th {\n",
       "        text-align: right;\n",
       "    }\n",
       "</style>\n",
       "<table border=\"1\" class=\"dataframe\">\n",
       "  <thead>\n",
       "    <tr style=\"text-align: right;\">\n",
       "      <th></th>\n",
       "      <th>RespondentID</th>\n",
       "      <th>Do you typically check a daily weather report?</th>\n",
       "      <th>How do you typically check the weather?</th>\n",
       "      <th>A specific website or app (please provide the answer)</th>\n",
       "      <th>If you had a smartwatch (like the soon to be released Apple Watch), how likely or unlikely would you be to check the weather on that device?</th>\n",
       "      <th>Age</th>\n",
       "      <th>What is your gender?</th>\n",
       "      <th>How much total combined money did all members of your HOUSEHOLD earn last year?</th>\n",
       "      <th>US Region</th>\n",
       "    </tr>\n",
       "  </thead>\n",
       "  <tbody>\n",
       "    <tr>\n",
       "      <th>0</th>\n",
       "      <td>3887201482</td>\n",
       "      <td>Yes</td>\n",
       "      <td>The default weather app on your phone</td>\n",
       "      <td>-</td>\n",
       "      <td>Very likely</td>\n",
       "      <td>30 - 44</td>\n",
       "      <td>Male</td>\n",
       "      <td>$50,000 to $74,999</td>\n",
       "      <td>South Atlantic</td>\n",
       "    </tr>\n",
       "    <tr>\n",
       "      <th>1</th>\n",
       "      <td>3887159451</td>\n",
       "      <td>Yes</td>\n",
       "      <td>The default weather app on your phone</td>\n",
       "      <td>-</td>\n",
       "      <td>Very likely</td>\n",
       "      <td>18 - 29</td>\n",
       "      <td>Male</td>\n",
       "      <td>Prefer not to answer</td>\n",
       "      <td>-</td>\n",
       "    </tr>\n",
       "    <tr>\n",
       "      <th>2</th>\n",
       "      <td>3887152228</td>\n",
       "      <td>Yes</td>\n",
       "      <td>The default weather app on your phone</td>\n",
       "      <td>-</td>\n",
       "      <td>Very likely</td>\n",
       "      <td>30 - 44</td>\n",
       "      <td>Male</td>\n",
       "      <td>$100,000 to $124,999</td>\n",
       "      <td>Middle Atlantic</td>\n",
       "    </tr>\n",
       "    <tr>\n",
       "      <th>3</th>\n",
       "      <td>3887145426</td>\n",
       "      <td>Yes</td>\n",
       "      <td>The default weather app on your phone</td>\n",
       "      <td>-</td>\n",
       "      <td>Somewhat likely</td>\n",
       "      <td>30 - 44</td>\n",
       "      <td>Male</td>\n",
       "      <td>Prefer not to answer</td>\n",
       "      <td>-</td>\n",
       "    </tr>\n",
       "    <tr>\n",
       "      <th>4</th>\n",
       "      <td>3887021873</td>\n",
       "      <td>Yes</td>\n",
       "      <td>A specific website or app (please provide the ...</td>\n",
       "      <td>Iphone app</td>\n",
       "      <td>Very likely</td>\n",
       "      <td>30 - 44</td>\n",
       "      <td>Male</td>\n",
       "      <td>$150,000 to $174,999</td>\n",
       "      <td>Middle Atlantic</td>\n",
       "    </tr>\n",
       "    <tr>\n",
       "      <th>...</th>\n",
       "      <td>...</td>\n",
       "      <td>...</td>\n",
       "      <td>...</td>\n",
       "      <td>...</td>\n",
       "      <td>...</td>\n",
       "      <td>...</td>\n",
       "      <td>...</td>\n",
       "      <td>...</td>\n",
       "      <td>...</td>\n",
       "    </tr>\n",
       "    <tr>\n",
       "      <th>923</th>\n",
       "      <td>3877568054</td>\n",
       "      <td>Yes</td>\n",
       "      <td>The Weather Channel</td>\n",
       "      <td>-</td>\n",
       "      <td>Very likely</td>\n",
       "      <td>45 - 59</td>\n",
       "      <td>Female</td>\n",
       "      <td>Prefer not to answer</td>\n",
       "      <td>Pacific</td>\n",
       "    </tr>\n",
       "    <tr>\n",
       "      <th>924</th>\n",
       "      <td>3877568053</td>\n",
       "      <td>Yes</td>\n",
       "      <td>The default weather app on your phone</td>\n",
       "      <td>-</td>\n",
       "      <td>Very likely</td>\n",
       "      <td>30 - 44</td>\n",
       "      <td>Female</td>\n",
       "      <td>Prefer not to answer</td>\n",
       "      <td>South Atlantic</td>\n",
       "    </tr>\n",
       "    <tr>\n",
       "      <th>925</th>\n",
       "      <td>3877566926</td>\n",
       "      <td>Yes</td>\n",
       "      <td>Local TV News</td>\n",
       "      <td>-</td>\n",
       "      <td>Somewhat likely</td>\n",
       "      <td>60+</td>\n",
       "      <td>Female</td>\n",
       "      <td>Prefer not to answer</td>\n",
       "      <td>Pacific</td>\n",
       "    </tr>\n",
       "    <tr>\n",
       "      <th>926</th>\n",
       "      <td>3877551536</td>\n",
       "      <td>No</td>\n",
       "      <td>-</td>\n",
       "      <td>-</td>\n",
       "      <td>-</td>\n",
       "      <td>-</td>\n",
       "      <td>-</td>\n",
       "      <td>-</td>\n",
       "      <td>-</td>\n",
       "    </tr>\n",
       "    <tr>\n",
       "      <th>927</th>\n",
       "      <td>3877548893</td>\n",
       "      <td>Yes</td>\n",
       "      <td>-</td>\n",
       "      <td>-</td>\n",
       "      <td>-</td>\n",
       "      <td>-</td>\n",
       "      <td>-</td>\n",
       "      <td>-</td>\n",
       "      <td>-</td>\n",
       "    </tr>\n",
       "  </tbody>\n",
       "</table>\n",
       "<p>928 rows × 9 columns</p>\n",
       "</div>"
      ],
      "text/plain": [
       "     RespondentID Do you typically check a daily weather report?  \\\n",
       "0      3887201482                                            Yes   \n",
       "1      3887159451                                            Yes   \n",
       "2      3887152228                                            Yes   \n",
       "3      3887145426                                            Yes   \n",
       "4      3887021873                                            Yes   \n",
       "..            ...                                            ...   \n",
       "923    3877568054                                            Yes   \n",
       "924    3877568053                                            Yes   \n",
       "925    3877566926                                            Yes   \n",
       "926    3877551536                                             No   \n",
       "927    3877548893                                            Yes   \n",
       "\n",
       "               How do you typically check the weather?  \\\n",
       "0                The default weather app on your phone   \n",
       "1                The default weather app on your phone   \n",
       "2                The default weather app on your phone   \n",
       "3                The default weather app on your phone   \n",
       "4    A specific website or app (please provide the ...   \n",
       "..                                                 ...   \n",
       "923                                The Weather Channel   \n",
       "924              The default weather app on your phone   \n",
       "925                                      Local TV News   \n",
       "926                                                  -   \n",
       "927                                                  -   \n",
       "\n",
       "    A specific website or app (please provide the answer)  \\\n",
       "0                                                    -      \n",
       "1                                                    -      \n",
       "2                                                    -      \n",
       "3                                                    -      \n",
       "4                                           Iphone app      \n",
       "..                                                 ...      \n",
       "923                                                  -      \n",
       "924                                                  -      \n",
       "925                                                  -      \n",
       "926                                                  -      \n",
       "927                                                  -      \n",
       "\n",
       "    If you had a smartwatch (like the soon to be released Apple Watch), how likely or unlikely would you be to check the weather on that device?  \\\n",
       "0                                          Very likely                                                                                             \n",
       "1                                          Very likely                                                                                             \n",
       "2                                          Very likely                                                                                             \n",
       "3                                      Somewhat likely                                                                                             \n",
       "4                                          Very likely                                                                                             \n",
       "..                                                 ...                                                                                             \n",
       "923                                        Very likely                                                                                             \n",
       "924                                        Very likely                                                                                             \n",
       "925                                    Somewhat likely                                                                                             \n",
       "926                                                  -                                                                                             \n",
       "927                                                  -                                                                                             \n",
       "\n",
       "         Age What is your gender?  \\\n",
       "0    30 - 44                 Male   \n",
       "1    18 - 29                 Male   \n",
       "2    30 - 44                 Male   \n",
       "3    30 - 44                 Male   \n",
       "4    30 - 44                 Male   \n",
       "..       ...                  ...   \n",
       "923  45 - 59               Female   \n",
       "924  30 - 44               Female   \n",
       "925      60+               Female   \n",
       "926        -                    -   \n",
       "927        -                    -   \n",
       "\n",
       "    How much total combined money did all members of your HOUSEHOLD earn last year?  \\\n",
       "0                                   $50,000 to $74,999                                \n",
       "1                                 Prefer not to answer                                \n",
       "2                                 $100,000 to $124,999                                \n",
       "3                                 Prefer not to answer                                \n",
       "4                                 $150,000 to $174,999                                \n",
       "..                                                 ...                                \n",
       "923                               Prefer not to answer                                \n",
       "924                               Prefer not to answer                                \n",
       "925                               Prefer not to answer                                \n",
       "926                                                  -                                \n",
       "927                                                  -                                \n",
       "\n",
       "           US Region  \n",
       "0     South Atlantic  \n",
       "1                  -  \n",
       "2    Middle Atlantic  \n",
       "3                  -  \n",
       "4    Middle Atlantic  \n",
       "..               ...  \n",
       "923          Pacific  \n",
       "924   South Atlantic  \n",
       "925          Pacific  \n",
       "926                -  \n",
       "927                -  \n",
       "\n",
       "[928 rows x 9 columns]"
      ]
     },
     "execution_count": 29,
     "metadata": {},
     "output_type": "execute_result"
    }
   ],
   "source": [
    "#Daten anzeigen \n",
    "df"
   ]
  },
  {
   "cell_type": "markdown",
   "metadata": {},
   "source": [
    "### Data corrections"
   ]
  },
  {
   "cell_type": "code",
   "execution_count": null,
   "metadata": {},
   "outputs": [],
   "source": []
  },
  {
   "cell_type": "markdown",
   "metadata": {},
   "source": [
    "## Exploratory data analysis"
   ]
  },
  {
   "cell_type": "code",
   "execution_count": null,
   "metadata": {},
   "outputs": [],
   "source": []
  },
  {
   "cell_type": "markdown",
   "metadata": {},
   "source": []
  }
 ],
 "metadata": {
  "kernelspec": {
   "display_name": "Python 3.9.13 ('bigdata')",
   "language": "python",
   "name": "python3"
  },
  "language_info": {
   "codemirror_mode": {
    "name": "ipython",
    "version": 3
   },
   "file_extension": ".py",
   "mimetype": "text/x-python",
   "name": "python",
   "nbconvert_exporter": "python",
   "pygments_lexer": "ipython3",
   "version": "3.9.13"
  },
  "orig_nbformat": 4,
  "vscode": {
   "interpreter": {
    "hash": "61d70d049cabf771dfe70ec1990b3ffac8797034e8e57d08769abf6a78aea8a9"
   }
  }
 },
 "nbformat": 4,
 "nbformat_minor": 2
}
